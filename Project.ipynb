{
 "cells": [
  {
   "cell_type": "markdown",
   "metadata": {},
   "source": [
    "## Asian Option - Project"
   ]
  },
  {
   "cell_type": "code",
   "execution_count": 1,
   "metadata": {},
   "outputs": [
    {
     "name": "stdout",
     "output_type": "stream",
     "text": [
      "| Name Of Option                | Call Option Price | Standard Error     | Relative Computation Time |\n",
      "| ----------------------------- | ----------------- | ------------------ | ------------------------- |\n",
      "| Simple Monte Carlo            | 4.7140            | 0.0732             | 0.2363                    |\n",
      "| Geometric Asian Monte Carlo   | 4.9368            | 0.0694             | 17.0830                    |\n"
     ]
    }
   ],
   "source": [
    "from probo.marketdata import MarketData\n",
    "from probo.payoff import ExoticPayoff, geometricAsianCallPayoff\n",
    "from probo.engine import MonteCarloEngine, NaiveMonteCarloPricer, PathwiseNaiveMonteCarloPricer, ControlVariatePricer\n",
    "from probo.facade import OptionFacade\n",
    "import time\n",
    "\n",
    "## Set up the market data\n",
    "spot = 100.0\n",
    "rate = 0.06\n",
    "volatility = 0.20\n",
    "dividend = 0.03\n",
    "thedata = MarketData(rate, spot, volatility, dividend)\n",
    "\n",
    "## Set up the option\n",
    "expiry = 1\n",
    "strike = 100.0\n",
    "the_simple_mc_call = ExoticPayoff(expiry, strike, geometricAsianCallPayoff)\n",
    "the_geom_mc_call = ExoticPayoff(expiry, strike, geometricAsianCallPayoff)\n",
    "\n",
    "## Set up Naive Monte Carlo\n",
    "nreps = 10000\n",
    "steps = 10\n",
    "# pricer = NaiveMonteCarloPricer\n",
    "pricer = PathwiseNaiveMonteCarloPricer\n",
    "mcengine = MonteCarloEngine(nreps, steps, pricer)\n",
    "pricer2 = ControlVariatePricer\n",
    "mcengine2 =  MonteCarloEngine(nreps, steps, pricer2)\n",
    "\n",
    "## Calculate the price\n",
    "option1 = OptionFacade(the_simple_mc_call, mcengine, thedata)\n",
    "time_start1 = time.clock()\n",
    "price1 = option1.price()\n",
    "time_elapsed1 = (time.clock() - time_start1)\n",
    "# print(\"The call price via Simple Monte Carlo is: {0:.4f}. Standard Error is: {1:.4f} Elapsed Time: {2:.4f} seconds.\".format(*price1, time_elapsed1))\n",
    "\n",
    "option2 = OptionFacade(the_geom_mc_call, mcengine2, thedata)\n",
    "time_start2 = time.clock()\n",
    "price2 = option2.price()\n",
    "time_elapsed2 = (time.clock() - time_start2)\n",
    "# print(\"The call price via Geometric Asian Control Variate Monte Carlo is: {0:.4f}. Standard Error is: {1:.4f}. Elapsed Time: {2:.4f} seconds.\".format(*price2, time_elapsed2))\n",
    "\n",
    "print('| Name Of Option                | Call Option Price | Standard Error     | Relative Computation Time |')\n",
    "print('| ----------------------------- | ----------------- | ------------------ | ------------------------- |')\n",
    "print('| Simple Monte Carlo            | {0:.4f}            | {1:.4f}             | {2:.4f}                    |'.format(*price1, time_elapsed1))\n",
    "print('| Geometric Asian Monte Carlo   | {0:.4f}            | {1:.4f}             | {2:.4f}                    |'.format(*price2, time_elapsed2))"
   ]
  },
  {
   "cell_type": "code",
   "execution_count": null,
   "metadata": {},
   "outputs": [],
   "source": []
  }
 ],
 "metadata": {
  "kernelspec": {
   "display_name": "Python 3",
   "language": "python",
   "name": "python3"
  },
  "language_info": {
   "codemirror_mode": {
    "name": "ipython",
    "version": 3
   },
   "file_extension": ".py",
   "mimetype": "text/x-python",
   "name": "python",
   "nbconvert_exporter": "python",
   "pygments_lexer": "ipython3",
   "version": "3.6.5"
  }
 },
 "nbformat": 4,
 "nbformat_minor": 2
}
